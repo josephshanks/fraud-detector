{
 "cells": [
  {
   "cell_type": "code",
   "execution_count": 2,
   "metadata": {},
   "outputs": [],
   "source": [
    "import pandas as pd\n",
    "import matplotlib.pyplot as plt\n",
    "import numpy as np\n",
    "from sklearn.linear_model import LogisticRegression\n",
    "from sklearn.metrics import confusion_matrix, accuracy_score, recall_score, precision_score, log_loss, make_scorer\n",
    "from sklearn.ensemble import RandomForestClassifier, GradientBoostingClassifier\n",
    "from sklearn.model_selection import cross_val_score, train_test_split, GridSearchCV, KFold, RandomizedSearchCV\n"
   ]
  },
  {
   "cell_type": "code",
   "execution_count": 8,
   "metadata": {},
   "outputs": [],
   "source": [
    "def cross_val(classifier, X, y):\n",
    "    kf = KFold(n_splits=5, shuffle=True)\n",
    "    accuracy = []\n",
    "    rmse=[]\n",
    "    model = classifier \n",
    "    \n",
    "    for train, test in kf.split(X):\n",
    "        X_train, X_test = X[train], X[test]\n",
    "        y_train, y_test = y[train], y[test]\n",
    "        \n",
    "        model.fit(X_train, y_train)\n",
    "\n",
    "        pred = model.predict(X_test)\n",
    "        accuracy.append(accuracy_score(y_test, pred))\n",
    "        rmse.append(np.sqrt(mean_squared_error(y_test, pred)))\n",
    "\n",
    "    accuracy = np.mean(accuracy)\n",
    "    rmse = np.mean(rmse)\n",
    "    return model,accuracy,rmse\n"
   ]
  },
  {
   "cell_type": "code",
   "execution_count": 3,
   "metadata": {},
   "outputs": [],
   "source": [
    "def random_forest(X_train, X_test, y_train, y_test):\n",
    "    model = RandomForestClassifier()\n",
    "    model.fit(X_train, y_train)\n",
    "    \n",
    "    y_predict = model.predict_proba(X_test)\n",
    "    #rmse = np.sqrt(mean_squared_error(y_test, y_predict))\n",
    "    coeff = model.feature_importances_\n",
    "    print(\"accuracy score:\", model.score(X_test, y_test))\n",
    "    print(\"precision:\", precision_score(y_test, y_predict))\n",
    "    print(\"recall:\", recall_score(y_test, y_predict))\n",
    "    return coeff"
   ]
  },
  {
   "cell_type": "code",
   "execution_count": 10,
   "metadata": {},
   "outputs": [],
   "source": []
  },
  {
   "cell_type": "code",
   "execution_count": null,
   "metadata": {},
   "outputs": [],
   "source": []
  }
 ],
 "metadata": {
  "kernelspec": {
   "display_name": "Python 3",
   "language": "python",
   "name": "python3"
  },
  "language_info": {
   "codemirror_mode": {
    "name": "ipython",
    "version": 3
   },
   "file_extension": ".py",
   "mimetype": "text/x-python",
   "name": "python",
   "nbconvert_exporter": "python",
   "pygments_lexer": "ipython3",
   "version": "3.7.4"
  }
 },
 "nbformat": 4,
 "nbformat_minor": 4
}
