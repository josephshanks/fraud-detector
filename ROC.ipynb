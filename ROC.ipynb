{
 "cells": [
  {
   "cell_type": "code",
   "execution_count": 1,
   "metadata": {},
   "outputs": [],
   "source": [
    "import numpy as np\n",
    "import matplotlib.pyplot as plt\n",
    "from sklearn.metrics import roc_curve, auc\n",
    "from scipy import interp\n",
    "from sklearn.model_selection import KFold\n",
    "from sklearn.preprocessing import StandardScaler\n",
    "def plot_roc_curve(probabilities, labels, ax, title):\n",
    "    '''\n",
    "    INPUT: numpy array, numpy array\n",
    "    OUTPUT: list, list, list\n",
    "    Take a numpy array of the predicted probabilities and a numpy array of the\n",
    "    true labels.\n",
    "    Return the True Positive Rates, False Positive Rates and Thresholds for the\n",
    "    ROC curve.\n",
    "    '''\n",
    "    probabilities = probabilities.reshape(labels.shape)\n",
    "    thresholds = np.linspace(0.01, 0.99, 1000)\n",
    "    tpr = []\n",
    "    fpr = []\n",
    "    num_true_pos = np.sum(labels)\n",
    "    num_false_pos = len(labels) - num_true_pos\n",
    "    for t in thresholds:\n",
    "        num_correct_pred = np.sum((probabilities >= t) & (labels == 1))\n",
    "        num_incorrect_pred = np.sum((probabilities >= t) & (labels == 0))\n",
    "        tpr.append(num_correct_pred / num_true_pos)\n",
    "        fpr.append(num_incorrect_pred / num_false_pos)\n",
    "    mean_auc = auc(fpr, tpr)\n",
    "    ax.plot(fpr, tpr, label=title + ' (area = %2.2f)' % mean_auc, lw=2)\n",
    "    ax.set_xlabel('False Positive Rate', fontsize=20)\n",
    "    ax.set_ylabel('True Positive Rate', fontsize=20)\n",
    "    ax.set_title('Receiver Operating Characteristic', fontsize=20)\n",
    "    ax.legend(loc=\"lower right\", fontsize=15)\n",
    "    ax.plot(thresholds, thresholds, color='k', ls='--', alpha=.5)\n",
    "    return ax, tpr, fpr, thresholds, mean_auc"
   ]
  },
  {
   "cell_type": "code",
   "execution_count": null,
   "metadata": {},
   "outputs": [],
   "source": []
  }
 ],
 "metadata": {
  "kernelspec": {
   "display_name": "Python 3",
   "language": "python",
   "name": "python3"
  },
  "language_info": {
   "codemirror_mode": {
    "name": "ipython",
    "version": 3
   },
   "file_extension": ".py",
   "mimetype": "text/x-python",
   "name": "python",
   "nbconvert_exporter": "python",
   "pygments_lexer": "ipython3",
   "version": "3.7.4"
  }
 },
 "nbformat": 4,
 "nbformat_minor": 4
}
