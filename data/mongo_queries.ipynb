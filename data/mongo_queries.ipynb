{
 "cells": [
  {
   "cell_type": "code",
   "execution_count": 38,
   "metadata": {},
   "outputs": [],
   "source": [
    "from pymongo import MongoClient\n",
    "import pprint\n",
    "import datetime"
   ]
  },
  {
   "cell_type": "code",
   "execution_count": 18,
   "metadata": {},
   "outputs": [],
   "source": [
    "client = MongoClient('localhost', 27017)\n",
    "db = client['fraud_study']\n",
    "collection = db['fraud_data']"
   ]
  },
  {
   "cell_type": "code",
   "execution_count": 21,
   "metadata": {},
   "outputs": [
    {
     "data": {
      "text/plain": [
       "10"
      ]
     },
     "execution_count": 21,
     "metadata": {},
     "output_type": "execute_result"
    }
   ],
   "source": [
    "collection.count_documents({})"
   ]
  },
  {
   "cell_type": "code",
   "execution_count": 44,
   "metadata": {},
   "outputs": [],
   "source": [
    "risk_range = [-1, .2, .5, .7, 1]\n",
    "num = 10"
   ]
  },
  {
   "cell_type": "code",
   "execution_count": 50,
   "metadata": {},
   "outputs": [
    {
     "name": "stdout",
     "output_type": "stream",
     "text": [
      "-1 0.2 4815441 NDP Christmas Party 2020-05-29 10:49:46.640851 0.01\n",
      "-1 0.2 4805725 AbFabParties - Single guys - Members (Fridays) 23.11.12 2020-05-29 10:47:15.736825 0.0\n",
      "-1 0.2 4782675 Story-Based Technical and Compliance eLearning Design Workshop 2020-05-29 10:41:43.081454 0.02\n",
      "-1 0.2 4772919 TEDxHousesofParliament 2013 2020-05-29 10:38:41.880527 0.01\n",
      "-1 0.2 4750475 BNI Cronulla Membership Fees - 4 weeks November 2020-05-29 10:33:08.711240 0.17\n",
      "-1 0.2 4750391 Take Back the Night 2013: Resource Fair Registration 2020-05-29 10:30:07.215205 0.18\n",
      "-1 0.2 4749649 Madisen's Match 2013 Donations 2020-05-29 10:27:35.857840 0.04\n",
      "-1 0.2 4744413 CLASSIC WEEKEND\" DJ KHALID,PLIES,GUCCI MANE LIVE @ ORLANDO LIVE AKA LAX!!! FRIDAY 16,17TH,18 2020-05-29 10:24:34.491362 0.06\n",
      "-1 0.2 4712931 Pack of Laughs 22 2020-05-29 10:22:03.233556 0.0\n",
      "-1 0.2 4651392 CRIC Workshop | Building Your Small Business Website and Social Media Tools 2020-05-29 10:19:01.935387 0.0\n",
      "\n",
      "0.2 0.5 4800273  2020-05-29 10:44:14.311662 0.48\n",
      "0.2 0.5 4771467  2020-05-29 10:35:40.105135 0.39\n",
      "0.2 0.5 4488228 Dream Event 2020-05-29 09:53:48.367556 0.45\n",
      "\n",
      "\n",
      "\n"
     ]
    }
   ],
   "source": [
    "for i in range(1,5):\n",
    "    query = (collection\n",
    "             .find({'probability': {'$gt': risk_range[i-1], '$lte': risk_range[i]}})\n",
    "             .sort('time', -1)\n",
    "             .limit(num)\n",
    "            )\n",
    "    for entry in query:\n",
    "        print(\n",
    "            risk_range[i-1], \n",
    "            risk_range[i],\n",
    "            entry['data']['object_id'],\n",
    "            entry['data']['name'],\n",
    "            datetime.datetime.fromtimestamp(entry['time']),\n",
    "            entry['probability']\n",
    "        )\n",
    "    print()"
   ]
  },
  {
   "cell_type": "code",
   "execution_count": null,
   "metadata": {},
   "outputs": [],
   "source": []
  }
 ],
 "metadata": {
  "kernelspec": {
   "display_name": "Python (gal)",
   "language": "python",
   "name": "gal"
  },
  "language_info": {
   "codemirror_mode": {
    "name": "ipython",
    "version": 3
   },
   "file_extension": ".py",
   "mimetype": "text/x-python",
   "name": "python",
   "nbconvert_exporter": "python",
   "pygments_lexer": "ipython3",
   "version": "3.8.0"
  }
 },
 "nbformat": 4,
 "nbformat_minor": 4
}
